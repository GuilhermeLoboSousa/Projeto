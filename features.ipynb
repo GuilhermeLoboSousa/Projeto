{
 "cells": [
  {
   "cell_type": "code",
   "execution_count": 1,
   "metadata": {},
   "outputs": [],
   "source": [
    "# achas as mesmas features que tem no data set exemplo"
   ]
  },
  {
   "cell_type": "code",
   "execution_count": 2,
   "metadata": {},
   "outputs": [],
   "source": [
    "from Bio.SeqUtils.ProtParam import ProteinAnalysis"
   ]
  },
  {
   "cell_type": "code",
   "execution_count": 3,
   "metadata": {},
   "outputs": [],
   "source": [
    "X = ProteinAnalysis(\"QYARQVRDLEEERDLELVRLRLFEEYRVSRSGIEFQEDIEKAKAEHEKLIKLCKERLYSSIEQKIKKLQE\")"
   ]
  },
  {
   "cell_type": "code",
   "execution_count": 4,
   "metadata": {},
   "outputs": [
    {
     "name": "stdout",
     "output_type": "stream",
     "text": [
      "3\n",
      "14\n",
      "0.04\n",
      "0.13\n",
      "8610.73\n",
      "0.07\n",
      "5.96\n"
     ]
    }
   ],
   "source": [
    "#print(X.count_amino_acids()['A'])\n",
    "#print(X.count_amino_acids()['E'])\n",
    "#print(\"%0.2f\" % X.get_amino_acids_percent()['A'])#precido\n",
    "#print(\"%0.2f\" % X.get_amino_acids_percent()['L'])#preciso\n",
    "print(\"%0.2f\" % X.molecular_weight()) #preciso\n",
    "print(\"%0.2f\" % X.aromaticity()) # preciso \n",
    "print(\"%0.2f\" % X.isoelectric_point()) #preciso"
   ]
  },
  {
   "cell_type": "code",
   "execution_count": 5,
   "metadata": {},
   "outputs": [
    {
     "name": "stdout",
     "output_type": "stream",
     "text": [
      "Collecting propy3\n",
      "  Downloading propy3-1.1.1-py3-none-any.whl (290 kB)\n",
      "Installing collected packages: propy3\n",
      "Successfully installed propy3-1.1.1\n",
      "Note: you may need to restart the kernel to use updated packages.\n"
     ]
    }
   ],
   "source": [
    "pip install propy3"
   ]
  },
  {
   "cell_type": "code",
   "execution_count": 18,
   "metadata": {},
   "outputs": [
    {
     "name": "stdout",
     "output_type": "stream",
     "text": [
      "SeqL : 70\n",
      "molecular_weight : 8610.73\n",
      "aromaticity : 0.07\n",
      "isoelectric_point : 5.96\n",
      "AAC : {'A': 7.714, 'R': 5.143, 'N': 6.571, 'D': 3.429, 'C': 2.857, 'E': 0.571, 'Q': 2.571, 'G': 4.286, 'H': 0.857, 'I': 8.0, 'L': 12.286, 'K': 3.714, 'M': 2.286, 'F': 5.714, 'P': 4.857, 'S': 7.714, 'T': 2.571, 'W': 2.0, 'Y': 5.143, 'V': 11.714}\n",
      "DPC : {'AA': 0.29, 'AR': 0.57, 'AN': 0.0, 'AD': 0.57, 'AC': 0.29, 'AE': 0.0, 'AQ': 0.29, 'AG': 0.57, 'AH': 0.0, 'AI': 1.15, 'AL': 0.57, 'AK': 0.0, 'AM': 0.0, 'AF': 0.0, 'AP': 0.29, 'AS': 1.43, 'AT': 0.0, 'AW': 0.0, 'AY': 0.57, 'AV': 1.15, 'RA': 0.29, 'RR': 0.29, 'RN': 0.86, 'RD': 0.0, 'RC': 0.0, 'RE': 0.0, 'RQ': 0.29, 'RG': 0.29, 'RH': 0.0, 'RI': 1.15, 'RL': 0.0, 'RK': 0.57, 'RM': 0.0, 'RF': 0.0, 'RP': 0.29, 'RS': 0.0, 'RT': 0.0, 'RW': 0.0, 'RY': 0.29, 'RV': 0.86, 'NA': 0.86, 'NR': 0.29, 'NN': 0.57, 'ND': 0.29, 'NC': 0.0, 'NE': 0.0, 'NQ': 0.29, 'NG': 0.57, 'NH': 0.0, 'NI': 0.57, 'NL': 0.86, 'NK': 0.29, 'NM': 0.0, 'NF': 0.86, 'NP': 0.0, 'NS': 0.57, 'NT': 0.0, 'NW': 0.0, 'NY': 0.0, 'NV': 0.29, 'DA': 0.0, 'DR': 0.57, 'DN': 0.0, 'DD': 0.0, 'DC': 0.0, 'DE': 0.0, 'DQ': 0.0, 'DG': 0.29, 'DH': 0.0, 'DI': 0.29, 'DL': 0.29, 'DK': 0.29, 'DM': 0.0, 'DF': 0.29, 'DP': 0.57, 'DS': 0.57, 'DT': 0.0, 'DW': 0.0, 'DY': 0.0, 'DV': 0.29, 'CA': 0.0, 'CR': 0.0, 'CN': 0.0, 'CD': 0.0, 'CC': 0.0, 'CE': 0.0, 'CQ': 0.29, 'CG': 0.0, 'CH': 0.29, 'CI': 0.0, 'CL': 0.29, 'CK': 0.0, 'CM': 0.0, 'CF': 0.0, 'CP': 0.0, 'CS': 0.0, 'CT': 0.57, 'CW': 0.29, 'CY': 0.86, 'CV': 0.29, 'EA': 0.0, 'ER': 0.0, 'EN': 0.0, 'ED': 0.0, 'EC': 0.0, 'EE': 0.0, 'EQ': 0.0, 'EG': 0.0, 'EH': 0.0, 'EI': 0.0, 'EL': 0.0, 'EK': 0.0, 'EM': 0.0, 'EF': 0.0, 'EP': 0.0, 'ES': 0.0, 'ET': 0.0, 'EW': 0.29, 'EY': 0.29, 'EV': 0.0, 'QA': 0.0, 'QR': 0.29, 'QN': 0.29, 'QD': 0.29, 'QC': 0.0, 'QE': 0.0, 'QQ': 0.0, 'QG': 0.29, 'QH': 0.0, 'QI': 0.0, 'QL': 0.0, 'QK': 0.0, 'QM': 0.0, 'QF': 0.0, 'QP': 0.29, 'QS': 0.29, 'QT': 0.0, 'QW': 0.0, 'QY': 0.29, 'QV': 0.57, 'GA': 0.29, 'GR': 0.0, 'GN': 0.86, 'GD': 0.29, 'GC': 0.0, 'GE': 0.0, 'GQ': 0.0, 'GG': 0.0, 'GH': 0.0, 'GI': 0.29, 'GL': 0.86, 'GK': 0.0, 'GM': 0.0, 'GF': 0.29, 'GP': 0.0, 'GS': 0.57, 'GT': 0.29, 'GW': 0.29, 'GY': 0.29, 'GV': 0.0, 'HA': 0.0, 'HR': 0.0, 'HN': 0.0, 'HD': 0.0, 'HC': 0.29, 'HE': 0.0, 'HQ': 0.0, 'HG': 0.0, 'HH': 0.0, 'HI': 0.0, 'HL': 0.0, 'HK': 0.0, 'HM': 0.0, 'HF': 0.29, 'HP': 0.0, 'HS': 0.29, 'HT': 0.0, 'HW': 0.0, 'HY': 0.0, 'HV': 0.0, 'IA': 0.57, 'IR': 0.0, 'IN': 0.29, 'ID': 0.0, 'IC': 0.57, 'IE': 0.0, 'IQ': 0.0, 'IG': 0.57, 'IH': 0.0, 'II': 0.86, 'IL': 0.86, 'IK': 0.0, 'IM': 0.0, 'IF': 1.43, 'IP': 0.29, 'IS': 0.0, 'IT': 0.29, 'IW': 0.57, 'IY': 0.86, 'IV': 0.86, 'LA': 1.43, 'LR': 1.15, 'LN': 0.86, 'LD': 0.0, 'LC': 0.57, 'LE': 0.0, 'LQ': 0.57, 'LG': 0.57, 'LH': 0.29, 'LI': 0.57, 'LL': 1.15, 'LK': 0.57, 'LM': 0.86, 'LF': 0.57, 'LP': 0.57, 'LS': 0.57, 'LT': 0.29, 'LW': 0.0, 'LY': 0.29, 'LV': 1.43, 'KA': 0.0, 'KR': 0.0, 'KN': 0.29, 'KD': 0.0, 'KC': 0.0, 'KE': 0.29, 'KQ': 0.0, 'KG': 0.0, 'KH': 0.0, 'KI': 0.0, 'KL': 0.86, 'KK': 0.29, 'KM': 0.0, 'KF': 0.0, 'KP': 1.15, 'KS': 0.0, 'KT': 0.0, 'KW': 0.29, 'KY': 0.29, 'KV': 0.29, 'MA': 0.29, 'MR': 0.0, 'MN': 0.0, 'MD': 0.0, 'MC': 0.0, 'ME': 0.0, 'MQ': 0.29, 'MG': 0.29, 'MH': 0.0, 'MI': 0.29, 'ML': 0.0, 'MK': 0.0, 'MM': 0.0, 'MF': 0.29, 'MP': 0.0, 'MS': 0.29, 'MT': 0.29, 'MW': 0.0, 'MY': 0.0, 'MV': 0.29, 'FA': 0.57, 'FR': 0.57, 'FN': 0.86, 'FD': 0.0, 'FC': 0.29, 'FE': 0.0, 'FQ': 0.0, 'FG': 0.0, 'FH': 0.29, 'FI': 0.29, 'FL': 0.57, 'FK': 0.0, 'FM': 0.0, 'FF': 0.29, 'FP': 0.0, 'FS': 0.0, 'FT': 0.29, 'FW': 0.0, 'FY': 0.0, 'FV': 1.72, 'PA': 0.29, 'PR': 0.57, 'PN': 0.57, 'PD': 0.29, 'PC': 0.0, 'PE': 0.29, 'PQ': 0.29, 'PG': 0.0, 'PH': 0.0, 'PI': 0.0, 'PL': 0.86, 'PK': 0.29, 'PM': 0.29, 'PF': 0.0, 'PP': 0.0, 'PS': 0.57, 'PT': 0.0, 'PW': 0.0, 'PY': 0.29, 'PV': 0.29, 'SA': 0.86, 'SR': 0.0, 'SN': 0.29, 'SD': 0.29, 'SC': 0.57, 'SE': 0.0, 'SQ': 0.29, 'SG': 0.29, 'SH': 0.0, 'SI': 0.57, 'SL': 1.15, 'SK': 0.29, 'SM': 0.29, 'SF': 0.0, 'SP': 0.29, 'SS': 0.86, 'ST': 0.0, 'SW': 0.29, 'SY': 0.29, 'SV': 1.15, 'TA': 0.29, 'TR': 0.0, 'TN': 0.29, 'TD': 0.0, 'TC': 0.0, 'TE': 0.0, 'TQ': 0.0, 'TG': 0.29, 'TH': 0.0, 'TI': 0.57, 'TL': 0.57, 'TK': 0.0, 'TM': 0.29, 'TF': 0.29, 'TP': 0.0, 'TS': 0.0, 'TT': 0.0, 'TW': 0.0, 'TY': 0.0, 'TV': 0.0, 'WA': 0.29, 'WR': 0.0, 'WN': 0.29, 'WD': 0.0, 'WC': 0.0, 'WE': 0.0, 'WQ': 0.0, 'WG': 0.0, 'WH': 0.0, 'WI': 0.29, 'WL': 0.86, 'WK': 0.29, 'WM': 0.0, 'WF': 0.0, 'WP': 0.0, 'WS': 0.0, 'WT': 0.0, 'WW': 0.0, 'WY': 0.0, 'WV': 0.0, 'YA': 0.0, 'YR': 0.57, 'YN': 0.0, 'YD': 0.57, 'YC': 0.29, 'YE': 0.0, 'YQ': 0.0, 'YG': 0.29, 'YH': 0.0, 'YI': 0.29, 'YL': 0.57, 'YK': 0.0, 'YM': 0.29, 'YF': 0.29, 'YP': 0.57, 'YS': 0.57, 'YT': 0.29, 'YW': 0.0, 'YY': 0.29, 'YV': 0.29, 'VA': 1.43, 'VR': 0.29, 'VN': 0.0, 'VD': 0.86, 'VC': 0.0, 'VE': 0.0, 'VQ': 0.0, 'VG': 0.0, 'VH': 0.0, 'VI': 0.86, 'VL': 2.01, 'VK': 0.86, 'VM': 0.0, 'VF': 0.86, 'VP': 0.57, 'VS': 1.15, 'VT': 0.29, 'VW': 0.0, 'VY': 0.29, 'VV': 1.72}\n",
      "CTD : {'_PolarizabilityC1': 0.257, '_PolarizabilityC2': 0.494, '_PolarizabilityC3': 0.249, '_SolventAccessibilityC1': 0.546, '_SolventAccessibilityC2': 0.22, '_SolventAccessibilityC3': 0.234, '_SecondaryStrC1': 0.351, '_SecondaryStrC2': 0.38, '_SecondaryStrC3': 0.269, '_ChargeC1': 0.089, '_ChargeC2': 0.871, '_ChargeC3': 0.04, '_PolarityC1': 0.5, '_PolarityC2': 0.271, '_PolarityC3': 0.229, '_NormalizedVDWVC1': 0.334, '_NormalizedVDWVC2': 0.417, '_NormalizedVDWVC3': 0.249, '_HydrophobicityC1': 0.22, '_HydrophobicityC2': 0.331, '_HydrophobicityC3': 0.449, '_PolarizabilityT12': 0.258, '_PolarizabilityT13': 0.097, '_PolarizabilityT23': 0.289, '_SolventAccessibilityT12': 0.209, '_SolventAccessibilityT13': 0.246, '_SolventAccessibilityT23': 0.1, '_SecondaryStrT12': 0.261, '_SecondaryStrT13': 0.212, '_SecondaryStrT23': 0.149, '_ChargeT12': 0.143, '_ChargeT13': 0.011, '_ChargeT23': 0.069, '_PolarityT12': 0.266, '_PolarityT13': 0.198, '_PolarityT23': 0.129, '_NormalizedVDWVT12': 0.281, '_NormalizedVDWVT13': 0.155, '_NormalizedVDWVT23': 0.232, '_HydrophobicityT12': 0.149, '_HydrophobicityT13': 0.16, '_HydrophobicityT23': 0.292, '_PolarizabilityD1001': 0.857, '_PolarizabilityD1025': 19.429, '_PolarizabilityD1050': 44.857, '_PolarizabilityD1075': 74.857, '_PolarizabilityD1100': 99.714, '_PolarizabilityD2001': 0.571, '_PolarizabilityD2025': 23.429, '_PolarizabilityD2050': 48.0, '_PolarizabilityD2075': 72.571, '_PolarizabilityD2100': 100.0, '_PolarizabilityD3001': 0.286, '_PolarizabilityD3025': 33.143, '_PolarizabilityD3050': 58.571, '_PolarizabilityD3075': 78.571, '_PolarizabilityD3100': 98.857, '_SolventAccessibilityD1001': 0.857, '_SolventAccessibilityD1025': 21.714, '_SolventAccessibilityD1050': 45.714, '_SolventAccessibilityD1075': 71.429, '_SolventAccessibilityD1100': 100.0, '_SolventAccessibilityD2001': 0.571, '_SolventAccessibilityD2025': 26.0, '_SolventAccessibilityD2050': 62.286, '_SolventAccessibilityD2075': 85.429, '_SolventAccessibilityD2100': 99.429, '_SolventAccessibilityD3001': 0.286, '_SolventAccessibilityD3025': 28.286, '_SolventAccessibilityD3050': 50.0, '_SolventAccessibilityD3075': 76.286, '_SolventAccessibilityD3100': 99.714, '_SecondaryStrD1001': 0.286, '_SecondaryStrD1025': 21.143, '_SecondaryStrD1050': 47.143, '_SecondaryStrD1075': 72.571, '_SecondaryStrD1100': 98.857, '_SecondaryStrD2001': 4.286, '_SecondaryStrD2025': 30.0, '_SecondaryStrD2050': 54.0, '_SecondaryStrD2075': 73.143, '_SecondaryStrD2100': 100.0, '_SecondaryStrD3001': 0.857, '_SecondaryStrD3025': 19.429, '_SecondaryStrD3050': 41.143, '_SecondaryStrD3075': 76.286, '_SecondaryStrD3100': 99.714, '_ChargeD1001': 4.857, '_ChargeD1025': 35.714, '_ChargeD1050': 62.857, '_ChargeD1075': 86.571, '_ChargeD1100': 98.857, '_ChargeD2001': 0.286, '_ChargeD2025': 24.286, '_ChargeD2050': 47.714, '_ChargeD2075': 73.143, '_ChargeD2100': 100.0, '_ChargeD3001': 5.429, '_ChargeD3025': 20.857, '_ChargeD3050': 66.571, '_ChargeD3075': 87.143, '_ChargeD3100': 99.429, '_PolarityD1001': 0.286, '_PolarityD1025': 25.429, '_PolarityD1050': 50.0, '_PolarityD1075': 71.714, '_PolarityD1100': 100.0, '_PolarityD2001': 0.857, '_PolarityD2025': 19.429, '_PolarityD2050': 45.143, '_PolarityD2075': 74.286, '_PolarityD2100': 99.714, '_PolarityD3001': 0.571, '_PolarityD3025': 26.857, '_PolarityD3050': 61.714, '_PolarityD3075': 85.429, '_PolarityD3100': 99.429, '_NormalizedVDWVD1001': 0.857, '_NormalizedVDWVD1025': 20.857, '_NormalizedVDWVD1050': 47.143, '_NormalizedVDWVD1075': 74.857, '_NormalizedVDWVD1100': 99.714, '_NormalizedVDWVD2001': 0.571, '_NormalizedVDWVD2025': 21.714, '_NormalizedVDWVD2050': 46.286, '_NormalizedVDWVD2075': 72.571, '_NormalizedVDWVD2100': 100.0, '_NormalizedVDWVD3001': 0.286, '_NormalizedVDWVD3025': 33.143, '_NormalizedVDWVD3050': 58.571, '_NormalizedVDWVD3075': 78.571, '_NormalizedVDWVD3100': 98.857, '_HydrophobicityD1001': 0.571, '_HydrophobicityD1025': 26.0, '_HydrophobicityD1050': 62.286, '_HydrophobicityD1075': 85.429, '_HydrophobicityD1100': 99.429, '_HydrophobicityD2001': 0.857, '_HydrophobicityD2025': 22.857, '_HydrophobicityD2050': 45.143, '_HydrophobicityD2075': 74.286, '_HydrophobicityD2100': 99.714, '_HydrophobicityD3001': 0.286, '_HydrophobicityD3025': 25.143, '_HydrophobicityD3050': 51.143, '_HydrophobicityD3075': 71.429, '_HydrophobicityD3100': 100.0}\n"
     ]
    }
   ],
   "source": [
    "from propy import PyPro\n",
    "from propy.GetProteinFromUniprot import GetProteinSequence\n",
    "\n",
    "# download the protein sequence by uniprot id\n",
    "proteinsequence = GetProteinSequence(\"P48039\")\n",
    "\n",
    "DesObject = PyPro.GetProDes(proteinsequence)  # construct a GetProDes object\n",
    "X = ProteinAnalysis(\"QYARQVRDLEEERDLELVRLRLFEEYRVSRSGIEFQEDIEKAKAEHEKLIKLCKERLYSSIEQKIKKLQE\")\n",
    "descriptors = {\n",
    "    \"SeqL\": X.length,\n",
    "    \"molecular_weight\": \"%0.2f\" % X.molecular_weight(),\n",
    "    \"aromaticity\": \"%0.2f\" % X.aromaticity(),\n",
    "    \"isoelectric_point\": \"%0.2f\" % X.isoelectric_point(),\n",
    "    \"AAC\":DesObject.GetAAComp(),\n",
    "    \"DPC\":DesObject.GetDPComp(),\n",
    "    \"CTD\":DesObject.GetCTD()\n",
    "}\n",
    "\n",
    "# Impressão dos valores do dicionário\n",
    "for descriptor, value in descriptors.items():\n",
    "    print(descriptor, \":\", value)"
   ]
  },
  {
   "cell_type": "code",
   "execution_count": null,
   "metadata": {},
   "outputs": [],
   "source": [
    "from propy import PyPro\n",
    "from propy.GetProteinFromUniprot import GetProteinSequence\n",
    "\n",
    "# Função para calcular os descritores para um ID do UniProt\n",
    "def calcular_descritores(uniprot_id):\n",
    "    # Download da sequência proteica pelo ID do UniProt\n",
    "    protein_sequence = GetProteinSequence(uniprot_id)\n",
    "\n",
    "    # Criação do objeto PyPro\n",
    "    des_object = PyPro.GetProDes(protein_sequence)\n",
    "\n",
    "    # Cálculo dos descritores desejados\n",
    "    aac_descriptors = des_object.GetAAComp()\n",
    "    molecular_weight = des_object.molecular_weight()\n",
    "    aromaticity = des_object.aromaticity()\n",
    "    isoelectric_point = des_object.isoelectric_point()\n",
    "\n",
    "    # Criação do dicionário com os descritores\n",
    "    descriptors = {\n",
    "        \"molecular_weight\": \"%0.2f\" % molecular_weight,\n",
    "        \"aromaticity\": \"%0.2f\" % aromaticity,\n",
    "        \"isoelectric_point\": \"%0.2f\" % isoelectric_point,\n",
    "        \"AAC\": aac_descriptors\n",
    "    }\n",
    "\n",
    "    # Impressão dos valores dos descritores\n",
    "    print(\"ID do UniProt:\", uniprot_id)\n",
    "    for descriptor, value in descriptors.items():\n",
    "        print(descriptor, \":\", value)\n",
    "    print()\n",
    "\n",
    "# Caminho para o arquivo contendo os IDs do UniProt\n",
    "caminho_arquivo = \"caminho/para/o/arquivo.txt\"\n",
    "\n",
    "# Leitura do arquivo e execução do script para cada ID do UniProt\n",
    "with open(caminho_arquivo, \"r\") as arquivo:\n",
    "    for linha in arquivo:\n",
    "        uniprot_id = linha.strip()\n",
    "        calcular_descritores(uniprot_id)\n"
   ]
  }
 ],
 "metadata": {
  "kernelspec": {
   "display_name": "base",
   "language": "python",
   "name": "python3"
  },
  "language_info": {
   "codemirror_mode": {
    "name": "ipython",
    "version": 3
   },
   "file_extension": ".py",
   "mimetype": "text/x-python",
   "name": "python",
   "nbconvert_exporter": "python",
   "pygments_lexer": "ipython3",
   "version": "3.9.12"
  },
  "orig_nbformat": 4
 },
 "nbformat": 4,
 "nbformat_minor": 2
}
